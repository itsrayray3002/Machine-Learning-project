{
  "cells": [
    {
      "cell_type": "markdown",
      "metadata": {
        "id": "BeThgcxt0LCq"
      },
      "source": [
        "# Lab 8: Implement Your Machine Learning Project Plan"
      ]
    },
    {
      "cell_type": "markdown",
      "metadata": {
        "id": "dJBWbcLW0LCs"
      },
      "source": [
        "In this lab assignment, you will implement the machine learning project plan you created in the written assignment. You will:\n",
        "\n",
        "1. Load your data set and save it to a Pandas DataFrame.\n",
        "2. Perform exploratory data analysis on your data to determine which feature engineering and data preparation techniques you will use.\n",
        "3. Prepare your data for your model and create features and a label.\n",
        "4. Fit your model to the training data and evaluate your model.\n",
        "5. Improve your model by performing model selection and/or feature selection techniques to find best model for your problem."
      ]
    },
    {
      "cell_type": "markdown",
      "metadata": {
        "id": "zGWa2ZKJ0LCs"
      },
      "source": [
        "### Import Packages\n",
        "\n",
        "Before you get started, import a few packages."
      ]
    },
    {
      "cell_type": "code",
      "execution_count": 2,
      "metadata": {
        "id": "dNVwi6p30LCt"
      },
      "outputs": [],
      "source": [
        "import pandas as pd\n",
        "import numpy as np\n",
        "import os\n",
        "import matplotlib.pyplot as plt\n",
        "import seaborn as sns"
      ]
    },
    {
      "cell_type": "markdown",
      "metadata": {
        "id": "qO9cVt900LCt"
      },
      "source": [
        "<b>Task:</b> In the code cell below, import additional packages that you have used in this course that you will need for this task."
      ]
    },
    {
      "cell_type": "code",
      "execution_count": 3,
      "metadata": {
        "id": "P0sh4p4P0LCu"
      },
      "outputs": [],
      "source": [
        "from scipy.stats import zscore\n",
        "from scipy.stats.mstats import winsorize\n",
        "from sklearn.utils import resample\n",
        "from sklearn.model_selection import train_test_split\n",
        "from sklearn.ensemble import RandomForestClassifier\n",
        "from sklearn.feature_selection import RFE\n",
        "from sklearn.model_selection import GridSearchCV\n",
        "from sklearn.utils.multiclass import unique_labels\n",
        "from sklearn.metrics import roc_curve, roc_auc_score"
      ]
    },
    {
      "cell_type": "markdown",
      "metadata": {
        "id": "Kw-oH_iI0LCu"
      },
      "source": [
        "## Part 1: Load the Data Set\n",
        "\n",
        "\n",
        "You have chosen to work with one of four data sets. The data sets are located in a folder named \"data.\" The file names of the three data sets are as follows:\n",
        "\n",
        "* The \"adult\" data set that contains Census information from 1994 is located in file `adultData.csv`\n",
        "* The airbnb NYC \"listings\" data set is located in file  `airbnbListingsData.csv`\n",
        "* The World Happiness Report (WHR) data set is located in file `WHR2018Chapter2OnlineData.csv`\n",
        "* The book review data set is located in file `bookReviewsData.csv`\n",
        "\n",
        "\n",
        "\n",
        "<b>Task:</b> In the code cell below, use the same method you have been using to load your data using `pd.read_csv()` and save it to DataFrame `df`."
      ]
    },
    {
      "cell_type": "code",
      "execution_count": 7,
      "metadata": {
        "colab": {
          "base_uri": "https://localhost:8080/",
          "height": 609
        },
        "id": "tt05Q0Gx0LCu",
        "outputId": "13fc1ac5-e4fd-4b50-edb3-b0e44ff31e5a"
      },
      "outputs": [
        {
          "data": {
            "text/html": [
              "<div>\n",
              "<style scoped>\n",
              "    .dataframe tbody tr th:only-of-type {\n",
              "        vertical-align: middle;\n",
              "    }\n",
              "\n",
              "    .dataframe tbody tr th {\n",
              "        vertical-align: top;\n",
              "    }\n",
              "\n",
              "    .dataframe thead th {\n",
              "        text-align: right;\n",
              "    }\n",
              "</style>\n",
              "<table border=\"1\" class=\"dataframe\">\n",
              "  <thead>\n",
              "    <tr style=\"text-align: right;\">\n",
              "      <th></th>\n",
              "      <th>age</th>\n",
              "      <th>workclass</th>\n",
              "      <th>fnlwgt</th>\n",
              "      <th>education</th>\n",
              "      <th>education-num</th>\n",
              "      <th>marital-status</th>\n",
              "      <th>occupation</th>\n",
              "      <th>relationship</th>\n",
              "      <th>race</th>\n",
              "      <th>sex_selfID</th>\n",
              "      <th>capital-gain</th>\n",
              "      <th>capital-loss</th>\n",
              "      <th>hours-per-week</th>\n",
              "      <th>native-country</th>\n",
              "      <th>income_binary</th>\n",
              "    </tr>\n",
              "  </thead>\n",
              "  <tbody>\n",
              "    <tr>\n",
              "      <th>0</th>\n",
              "      <td>39.0</td>\n",
              "      <td>State-gov</td>\n",
              "      <td>77516</td>\n",
              "      <td>Bachelors</td>\n",
              "      <td>13</td>\n",
              "      <td>Never-married</td>\n",
              "      <td>Adm-clerical</td>\n",
              "      <td>Not-in-family</td>\n",
              "      <td>White</td>\n",
              "      <td>Non-Female</td>\n",
              "      <td>2174</td>\n",
              "      <td>0</td>\n",
              "      <td>40.0</td>\n",
              "      <td>United-States</td>\n",
              "      <td>&lt;=50K</td>\n",
              "    </tr>\n",
              "    <tr>\n",
              "      <th>1</th>\n",
              "      <td>50.0</td>\n",
              "      <td>Self-emp-not-inc</td>\n",
              "      <td>83311</td>\n",
              "      <td>Bachelors</td>\n",
              "      <td>13</td>\n",
              "      <td>Married-civ-spouse</td>\n",
              "      <td>Exec-managerial</td>\n",
              "      <td>Husband</td>\n",
              "      <td>White</td>\n",
              "      <td>Non-Female</td>\n",
              "      <td>0</td>\n",
              "      <td>0</td>\n",
              "      <td>13.0</td>\n",
              "      <td>United-States</td>\n",
              "      <td>&lt;=50K</td>\n",
              "    </tr>\n",
              "    <tr>\n",
              "      <th>2</th>\n",
              "      <td>38.0</td>\n",
              "      <td>Private</td>\n",
              "      <td>215646</td>\n",
              "      <td>HS-grad</td>\n",
              "      <td>9</td>\n",
              "      <td>Divorced</td>\n",
              "      <td>Handlers-cleaners</td>\n",
              "      <td>Not-in-family</td>\n",
              "      <td>White</td>\n",
              "      <td>Non-Female</td>\n",
              "      <td>0</td>\n",
              "      <td>0</td>\n",
              "      <td>40.0</td>\n",
              "      <td>United-States</td>\n",
              "      <td>&lt;=50K</td>\n",
              "    </tr>\n",
              "    <tr>\n",
              "      <th>3</th>\n",
              "      <td>53.0</td>\n",
              "      <td>Private</td>\n",
              "      <td>234721</td>\n",
              "      <td>11th</td>\n",
              "      <td>7</td>\n",
              "      <td>Married-civ-spouse</td>\n",
              "      <td>Handlers-cleaners</td>\n",
              "      <td>Husband</td>\n",
              "      <td>Black</td>\n",
              "      <td>Non-Female</td>\n",
              "      <td>0</td>\n",
              "      <td>0</td>\n",
              "      <td>40.0</td>\n",
              "      <td>United-States</td>\n",
              "      <td>&lt;=50K</td>\n",
              "    </tr>\n",
              "    <tr>\n",
              "      <th>4</th>\n",
              "      <td>28.0</td>\n",
              "      <td>Private</td>\n",
              "      <td>338409</td>\n",
              "      <td>Bachelors</td>\n",
              "      <td>13</td>\n",
              "      <td>Married-civ-spouse</td>\n",
              "      <td>Prof-specialty</td>\n",
              "      <td>Wife</td>\n",
              "      <td>Black</td>\n",
              "      <td>Female</td>\n",
              "      <td>0</td>\n",
              "      <td>0</td>\n",
              "      <td>40.0</td>\n",
              "      <td>Cuba</td>\n",
              "      <td>&lt;=50K</td>\n",
              "    </tr>\n",
              "    <tr>\n",
              "      <th>5</th>\n",
              "      <td>37.0</td>\n",
              "      <td>Private</td>\n",
              "      <td>284582</td>\n",
              "      <td>Masters</td>\n",
              "      <td>14</td>\n",
              "      <td>Married-civ-spouse</td>\n",
              "      <td>Exec-managerial</td>\n",
              "      <td>Wife</td>\n",
              "      <td>White</td>\n",
              "      <td>Female</td>\n",
              "      <td>0</td>\n",
              "      <td>0</td>\n",
              "      <td>40.0</td>\n",
              "      <td>United-States</td>\n",
              "      <td>&lt;=50K</td>\n",
              "    </tr>\n",
              "    <tr>\n",
              "      <th>6</th>\n",
              "      <td>49.0</td>\n",
              "      <td>Private</td>\n",
              "      <td>160187</td>\n",
              "      <td>9th</td>\n",
              "      <td>5</td>\n",
              "      <td>Married-spouse-absent</td>\n",
              "      <td>Other-service</td>\n",
              "      <td>Not-in-family</td>\n",
              "      <td>Black</td>\n",
              "      <td>Female</td>\n",
              "      <td>0</td>\n",
              "      <td>0</td>\n",
              "      <td>16.0</td>\n",
              "      <td>Jamaica</td>\n",
              "      <td>&lt;=50K</td>\n",
              "    </tr>\n",
              "    <tr>\n",
              "      <th>7</th>\n",
              "      <td>52.0</td>\n",
              "      <td>Self-emp-not-inc</td>\n",
              "      <td>209642</td>\n",
              "      <td>HS-grad</td>\n",
              "      <td>9</td>\n",
              "      <td>Married-civ-spouse</td>\n",
              "      <td>Exec-managerial</td>\n",
              "      <td>Husband</td>\n",
              "      <td>White</td>\n",
              "      <td>Non-Female</td>\n",
              "      <td>0</td>\n",
              "      <td>0</td>\n",
              "      <td>45.0</td>\n",
              "      <td>United-States</td>\n",
              "      <td>&gt;50K</td>\n",
              "    </tr>\n",
              "    <tr>\n",
              "      <th>8</th>\n",
              "      <td>31.0</td>\n",
              "      <td>Private</td>\n",
              "      <td>45781</td>\n",
              "      <td>Masters</td>\n",
              "      <td>14</td>\n",
              "      <td>Never-married</td>\n",
              "      <td>Prof-specialty</td>\n",
              "      <td>Not-in-family</td>\n",
              "      <td>White</td>\n",
              "      <td>Female</td>\n",
              "      <td>14084</td>\n",
              "      <td>0</td>\n",
              "      <td>50.0</td>\n",
              "      <td>United-States</td>\n",
              "      <td>&gt;50K</td>\n",
              "    </tr>\n",
              "    <tr>\n",
              "      <th>9</th>\n",
              "      <td>42.0</td>\n",
              "      <td>Private</td>\n",
              "      <td>159449</td>\n",
              "      <td>Bachelors</td>\n",
              "      <td>13</td>\n",
              "      <td>Married-civ-spouse</td>\n",
              "      <td>Exec-managerial</td>\n",
              "      <td>Husband</td>\n",
              "      <td>White</td>\n",
              "      <td>Non-Female</td>\n",
              "      <td>5178</td>\n",
              "      <td>0</td>\n",
              "      <td>40.0</td>\n",
              "      <td>United-States</td>\n",
              "      <td>&gt;50K</td>\n",
              "    </tr>\n",
              "  </tbody>\n",
              "</table>\n",
              "</div>"
            ],
            "text/plain": [
              "    age         workclass  fnlwgt  education  education-num  \\\n",
              "0  39.0         State-gov   77516  Bachelors             13   \n",
              "1  50.0  Self-emp-not-inc   83311  Bachelors             13   \n",
              "2  38.0           Private  215646    HS-grad              9   \n",
              "3  53.0           Private  234721       11th              7   \n",
              "4  28.0           Private  338409  Bachelors             13   \n",
              "5  37.0           Private  284582    Masters             14   \n",
              "6  49.0           Private  160187        9th              5   \n",
              "7  52.0  Self-emp-not-inc  209642    HS-grad              9   \n",
              "8  31.0           Private   45781    Masters             14   \n",
              "9  42.0           Private  159449  Bachelors             13   \n",
              "\n",
              "          marital-status         occupation   relationship   race  sex_selfID  \\\n",
              "0          Never-married       Adm-clerical  Not-in-family  White  Non-Female   \n",
              "1     Married-civ-spouse    Exec-managerial        Husband  White  Non-Female   \n",
              "2               Divorced  Handlers-cleaners  Not-in-family  White  Non-Female   \n",
              "3     Married-civ-spouse  Handlers-cleaners        Husband  Black  Non-Female   \n",
              "4     Married-civ-spouse     Prof-specialty           Wife  Black      Female   \n",
              "5     Married-civ-spouse    Exec-managerial           Wife  White      Female   \n",
              "6  Married-spouse-absent      Other-service  Not-in-family  Black      Female   \n",
              "7     Married-civ-spouse    Exec-managerial        Husband  White  Non-Female   \n",
              "8          Never-married     Prof-specialty  Not-in-family  White      Female   \n",
              "9     Married-civ-spouse    Exec-managerial        Husband  White  Non-Female   \n",
              "\n",
              "   capital-gain  capital-loss  hours-per-week native-country income_binary  \n",
              "0          2174             0            40.0  United-States         <=50K  \n",
              "1             0             0            13.0  United-States         <=50K  \n",
              "2             0             0            40.0  United-States         <=50K  \n",
              "3             0             0            40.0  United-States         <=50K  \n",
              "4             0             0            40.0           Cuba         <=50K  \n",
              "5             0             0            40.0  United-States         <=50K  \n",
              "6             0             0            16.0        Jamaica         <=50K  \n",
              "7             0             0            45.0  United-States          >50K  \n",
              "8         14084             0            50.0  United-States          >50K  \n",
              "9          5178             0            40.0  United-States          >50K  "
            ]
          },
          "execution_count": 7,
          "metadata": {},
          "output_type": "execute_result"
        }
      ],
      "source": [
        "# Load the Data Set\n",
        "filename = os.path.join(os.getcwd(), \"data\", \"/Users/itsrayray3002/Documents/GitHub/Machine-Learning-project/adultData.csv\")\n",
        "df = pd.read_csv(filename, header=0)\n",
        "df.head(10)"
      ]
    },
    {
      "cell_type": "markdown",
      "metadata": {
        "id": "n_vDZ9q90LCu"
      },
      "source": [
        "## Part 2: Exploratory Data Analysis\n",
        "\n",
        "The next step is to inspect and analyze your data set with your machine learning problem and project plan in mind.\n",
        "\n",
        "This step will help you determine data preparation and feature engineering techniques you will need to apply to your data to build a balanced modeling data set for your problem and model. These data preparation techniques may include:\n",
        "* addressing missingness, such as replacing missing values with means\n",
        "* renaming features and labels\n",
        "* finding and replacing outliers\n",
        "* performing winsorization if needed\n",
        "* performing one-hot encoding on categorical features\n",
        "* performing vectorization for an NLP problem\n",
        "* addressing class imbalance in your data sample to promote fair AI\n",
        "\n",
        "\n",
        "Think of the different techniques you have used to inspect and analyze your data in this course. These include using Pandas to apply data filters, using the Pandas `describe()` method to get insight into key statistics for each column, using the Pandas `dtypes` property to inspect the data type of each column, and using Matplotlib and Seaborn to detect outliers and visualize relationships between features and labels. If you are working on a classification problem, use techniques you have learned to determine if there is class imbalance.\n",
        "\n",
        "\n",
        "<b>Task</b>: Use the techniques you have learned in this course to inspect and analyze your data.\n",
        "\n",
        "<b>Note</b>: You can add code cells if needed by going to the <b>Insert</b> menu and clicking on <b>Insert Cell Below</b> in the drop-drown menu."
      ]
    },
    {
      "cell_type": "code",
      "execution_count": 8,
      "metadata": {
        "id": "Lt128rAI0LCu"
      },
      "outputs": [],
      "source": [
        "# Data Preprocessing\n",
        "df['age'].fillna(df['age'].median(), inplace=True)\n",
        "df['hours-per-week'].fillna(df['hours-per-week'].median(), inplace=True)\n",
        "categorical_cols = ['workclass', 'occupation', 'native-country', 'race']\n",
        "for col in categorical_cols:\n",
        "    mode_value = df[col].mode()[0]\n",
        "    df[col].fillna(mode_value, inplace=True)\n"
      ]
    },
    {
      "cell_type": "code",
      "execution_count": 9,
      "metadata": {
        "id": "xY2FtWzB0LCu"
      },
      "outputs": [],
      "source": [
        "\n",
        "# Handle outliers\n",
        "numeric_cols = df.select_dtypes(include=[np.number]).columns.tolist()\n",
        "z_scores = np.abs(zscore(df[numeric_cols]))\n",
        "outlier_threshold = 3\n",
        "outliers = np.where(z_scores > outlier_threshold)\n",
        "for col in numeric_cols:\n",
        "    df[col] = winsorize(df[col], limits=[0.05, 0.05])\n"
      ]
    },
    {
      "cell_type": "code",
      "execution_count": 10,
      "metadata": {
        "id": "lkSKCLzo0LCv"
      },
      "outputs": [],
      "source": [
        "# Balance classes for Race\n",
        "majority_race = df[df['race'] == 'White']\n",
        "minority_races = df[df['race'] != 'White']\n",
        "upsampled_minority_races = []\n",
        "for minority_race_value in minority_races['race'].unique():\n",
        "    minority_race_data = minority_races[minority_races['race'] == minority_race_value]\n",
        "    minority_upsampled = resample(minority_race_data, replace=True, n_samples=len(majority_race), random_state=42)\n",
        "    upsampled_minority_races.append(minority_upsampled)\n",
        "df = pd.concat([majority_race] + upsampled_minority_races)\n",
        "df = df.sample(frac=1, random_state=42)  # Shuffle the balanced dataset\n"
      ]
    },
    {
      "cell_type": "code",
      "execution_count": 11,
      "metadata": {
        "id": "ZRWVp8pv0LCv"
      },
      "outputs": [],
      "source": [
        "# Balance classes for Gender\n",
        "majority_gender = df[df['sex_selfID'] == 'Non-Female']\n",
        "minority_gender = df[df['sex_selfID'] == 'Female']\n",
        "minority_upsampled_gender = resample(minority_gender, replace=True, n_samples=len(majority_gender), random_state=42)\n",
        "df = pd.concat([majority_gender, minority_upsampled_gender])\n",
        "df = df.sample(frac=1, random_state=42)  # Shuffle the balanced dataset"
      ]
    },
    {
      "cell_type": "code",
      "execution_count": 12,
      "metadata": {
        "colab": {
          "base_uri": "https://localhost:8080/"
        },
        "id": "SM-TO-3R0LCv",
        "outputId": "f20f8c4b-e4bd-4aca-dfce-c43bc66a2f73"
      },
      "outputs": [
        {
          "name": "stdout",
          "output_type": "stream",
          "text": [
            "Index(['age', 'fnlwgt', 'education-num', 'capital-gain', 'capital-loss',\n",
            "       'hours-per-week', 'workclass_Local-gov', 'workclass_Never-worked',\n",
            "       'workclass_Private', 'workclass_Self-emp-inc',\n",
            "       'workclass_Self-emp-not-inc', 'workclass_State-gov',\n",
            "       'workclass_Without-pay', 'education_11th', 'education_12th',\n",
            "       'education_1st-4th', 'education_5th-6th', 'education_7th-8th',\n",
            "       'education_9th', 'education_Assoc-acdm', 'education_Assoc-voc',\n",
            "       'education_Bachelors', 'education_Doctorate', 'education_HS-grad',\n",
            "       'education_Masters', 'education_Preschool', 'education_Prof-school',\n",
            "       'education_Some-college', 'marital-status_Married-AF-spouse',\n",
            "       'marital-status_Married-civ-spouse',\n",
            "       'marital-status_Married-spouse-absent', 'marital-status_Never-married',\n",
            "       'marital-status_Separated', 'marital-status_Widowed',\n",
            "       'occupation_Armed-Forces', 'occupation_Craft-repair',\n",
            "       'occupation_Exec-managerial', 'occupation_Farming-fishing',\n",
            "       'occupation_Handlers-cleaners', 'occupation_Machine-op-inspct',\n",
            "       'occupation_Other-service', 'occupation_Priv-house-serv',\n",
            "       'occupation_Prof-specialty', 'occupation_Protective-serv',\n",
            "       'occupation_Sales', 'occupation_Tech-support',\n",
            "       'occupation_Transport-moving', 'relationship_Not-in-family',\n",
            "       'relationship_Other-relative', 'relationship_Own-child',\n",
            "       'relationship_Unmarried', 'relationship_Wife', 'sex_selfID_Non-Female',\n",
            "       'native-country_Canada', 'native-country_China',\n",
            "       'native-country_Columbia', 'native-country_Cuba',\n",
            "       'native-country_Dominican-Republic', 'native-country_Ecuador',\n",
            "       'native-country_El-Salvador', 'native-country_England',\n",
            "       'native-country_France', 'native-country_Germany',\n",
            "       'native-country_Greece', 'native-country_Guatemala',\n",
            "       'native-country_Haiti', 'native-country_Holand-Netherlands',\n",
            "       'native-country_Honduras', 'native-country_Hong',\n",
            "       'native-country_Hungary', 'native-country_India', 'native-country_Iran',\n",
            "       'native-country_Ireland', 'native-country_Italy',\n",
            "       'native-country_Jamaica', 'native-country_Japan', 'native-country_Laos',\n",
            "       'native-country_Mexico', 'native-country_Nicaragua',\n",
            "       'native-country_Outlying-US(Guam-USVI-etc)', 'native-country_Peru',\n",
            "       'native-country_Philippines', 'native-country_Poland',\n",
            "       'native-country_Portugal', 'native-country_Puerto-Rico',\n",
            "       'native-country_Scotland', 'native-country_South',\n",
            "       'native-country_Taiwan', 'native-country_Thailand',\n",
            "       'native-country_Trinadad&Tobago', 'native-country_United-States',\n",
            "       'native-country_Vietnam', 'native-country_Yugoslavia',\n",
            "       'income_binary_>50K', 'race_Asian-Pac-Islander', 'race_Black',\n",
            "       'race_Other', 'race_White'],\n",
            "      dtype='object')\n"
          ]
        }
      ],
      "source": [
        "# One-hot encode categorical data\n",
        "categorical_cols = ['workclass', 'education', 'marital-status', 'occupation', 'relationship', 'sex_selfID', 'native-country', 'income_binary', 'race']\n",
        "df_encoded = pd.get_dummies(df, columns=categorical_cols, drop_first=True)\n",
        "df = df_encoded\n",
        "\n",
        "# Display columns of the balanced DataFrame\n",
        "print(df.columns)"
      ]
    },
    {
      "cell_type": "markdown",
      "metadata": {
        "id": "1xbxlUUY0LCv"
      },
      "source": [
        "## Part 3: Implement Your Project Plan\n",
        "\n",
        "<b>Task:</b> Use the rest of this notebook to carry out your project plan. You will:\n",
        "\n",
        "1. Prepare your data for your model and create features and a label.\n",
        "2. Fit your model to the training data and evaluate your model.\n",
        "3. Improve your model by performing model selection and/or feature selection techniques to find best model for your problem.\n",
        "\n",
        "\n",
        "Add code cells below and populate the notebook with commentary, code, analyses, results, and figures as you see fit."
      ]
    },
    {
      "cell_type": "code",
      "execution_count": 13,
      "metadata": {
        "colab": {
          "base_uri": "https://localhost:8080/"
        },
        "id": "AaE6sfx50LCv",
        "outputId": "2bb91f93-bfea-4d68-e616-05be39de0e65"
      },
      "outputs": [
        {
          "name": "stdout",
          "output_type": "stream",
          "text": [
            "Empty DataFrame\n",
            "Columns: []\n",
            "Index: [29158, 291, 9583, 2611, 19137]\n",
            "Initial Model Accuracy: 0.98\n",
            "Top features: ['age', 'fnlwgt', 'capital-gain', 'marital-status_Married-civ-spouse', 'education-num']\n",
            "Final Model Accuracy: 0.98\n"
          ]
        },
        {
          "data": {
            "image/png": "[encoded data removed]",
            "text/plain": [
              "<Figure size 800x600 with 1 Axes>"
            ]
          },
          "metadata": {},
          "output_type": "display_data"
        }
      ],
      "source": [
        "\n",
        "# Step 1: Prepare the data\n",
        "X = df.drop('income_binary_>50K', axis=1)  # Features\n",
        "y = df['income_binary_>50K']  # Target variable\n",
        "\n",
        "# Verify if any non-numeric data exists in X\n",
        "print(X.select_dtypes(include=[object]).head())\n",
        "\n",
        "# Convert any remaining object types to numerical (if any)\n",
        "# You can skip this if there are no object types left\n",
        "for col in X.select_dtypes(include=[object]).columns:\n",
        "    X[col] = X[col].astype('category').cat.codes\n",
        "\n",
        "# Step 2: Split data into training and testing sets\n",
        "X_train, X_test, y_train, y_test = train_test_split(X, y, test_size=0.20, random_state=1234)\n",
        "\n",
        "# Step 3: Train the initial model (Random Forest)\n",
        "initial_model = RandomForestClassifier(random_state=42)\n",
        "initial_model.fit(X_train, y_train)\n",
        "\n",
        "# Step 4: Evaluate the initial model\n",
        "initial_accuracy = initial_model.score(X_test, y_test)\n",
        "print(f\"Initial Model Accuracy: {initial_accuracy:.2f}\")\n",
        "\n",
        "# Step 5: Get feature importance\n",
        "feature_importance = initial_model.feature_importances_\n",
        "\n",
        "# Step 6: Create a DataFrame with feature names and scores\n",
        "df_feature_importance = pd.DataFrame({\n",
        "    'feature_name': X_train.columns.values,\n",
        "    'importance': feature_importance\n",
        "})\n",
        "\n",
        "# Step 7: Sort the features by importance in descending order\n",
        "df_sorted_importance = df_feature_importance.sort_values('importance', ascending=False)\n",
        "\n",
        "# Step 8: Get the top 5 sorted feature names\n",
        "top_features = list(df_sorted_importance['feature_name'].iloc[:5])\n",
        "print('Top features:', top_features)\n",
        "\n",
        "# Step 9: Visualize feature importance\n",
        "plt.figure(figsize=(8, 6))\n",
        "plt.bar(np.arange(5), sorted(initial_model.feature_importances_, reverse=True)[:5], width=0.35)\n",
        "plt.xticks(np.arange(5), top_features, rotation=45)\n",
        "plt.title('Feature Importance from Random Forest')\n",
        "plt.ylabel('Normalized Importance')\n",
        "plt.xlabel('Top Features')\n",
        "\n",
        "# Step 10: Fine-tune hyperparameters using GridSearchCV\n",
        "param_grid = {'n_estimators': [50, 100, 150], 'max_depth': [None, 10, 20]}\n",
        "grid_search = GridSearchCV(initial_model, param_grid, cv=5)\n",
        "grid_search.fit(X_train, y_train)\n",
        "best_model = grid_search.best_estimator_\n",
        "\n",
        "# Step 11: Evaluate the final model\n",
        "final_accuracy = best_model.score(X_test, y_test)\n",
        "print(f\"Final Model Accuracy: {final_accuracy:.2f}\")\n",
        "\n",
        "# Step 12: Plot the ROC curve\n",
        "y_pred_prob = best_model.predict_proba(X_test)[:, 1]\n",
        "roc_auc = roc_auc_score(y_test, y_pred_prob)\n",
        "\n",
        "fpr, tpr, _ = roc_curve(y_test, y_pred_prob, pos_label=1)"
      ]
    },
    {
      "cell_type": "code",
      "execution_count": 14,
      "metadata": {
        "id": "29tX3OmK0LCv"
      },
      "outputs": [
        {
          "data": {
            "image/png": "[encoded data removed]",
            "text/plain": [
              "<Figure size 800x600 with 1 Axes>"
            ]
          },
          "metadata": {},
          "output_type": "display_data"
        },
        {
          "name": "stdout",
          "output_type": "stream",
          "text": [
            "Done\n"
          ]
        }
      ],
      "source": [
        "plt.figure(figsize=(8, 6))\n",
        "plt.plot(fpr, tpr, color='darkorange', lw=2)\n",
        "plt.plot([0, 1], [0, 1], color='navy', lw=2, linestyle='--')\n",
        "plt.xlim([0.0, 1.0])\n",
        "plt.ylim([0.0, 1.05])\n",
        "plt.xlabel('False Positive Rate')\n",
        "plt.ylabel('True Positive Rate')\n",
        "plt.title(f'ROC Curve (AUC = {roc_auc:.2f})')\n",
        "plt.show()\n",
        "print(\"Done\")\n"
      ]
    },
    {
      "cell_type": "code",
      "execution_count": null,
      "metadata": {
        "id": "sRnvyKc_0LCv"
      },
      "outputs": [],
      "source": []
    }
  ],
  "metadata": {
    "colab": {
      "provenance": []
    },
    "kernelspec": {
      "display_name": "Python 3",
      "language": "python",
      "name": "python3"
    },
    "language_info": {
      "codemirror_mode": {
        "name": "ipython",
        "version": 3
      },
      "file_extension": ".py",
      "mimetype": "text/x-python",
      "name": "python",
      "nbconvert_exporter": "python",
      "pygments_lexer": "ipython3",
      "version": "3.8.18"
    },
    "toc": {
      "base_numbering": 1,
      "nav_menu": {},
      "number_sections": false,
      "sideBar": true,
      "skip_h1_title": false,
      "title_cell": "Table of Contents",
      "title_sidebar": "Contents",
      "toc_cell": false,
      "toc_position": {},
      "toc_section_display": true,
      "toc_window_display": false
    },
    "varInspector": {
      "cols": {
        "lenName": 16,
        "lenType": 16,
        "lenVar": 40
      },
      "kernels_config": {
        "python": {
          "delete_cmd_postfix": "",
          "delete_cmd_prefix": "del ",
          "library": "var_list.py",
          "varRefreshCmd": "print(var_dic_list())"
        },
        "r": {
          "delete_cmd_postfix": ") ",
          "delete_cmd_prefix": "rm(",
          "library": "var_list.r",
          "varRefreshCmd": "cat(var_dic_list()) "
        }
      },
      "types_to_exclude": [
        "module",
        "function",
        "builtin_function_or_method",
        "instance",
        "_Feature"
      ],
      "window_display": false
    }
  },
  "nbformat": 4,
  "nbformat_minor": 0
}
